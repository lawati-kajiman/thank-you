{
 "metadata": {
  "language_info": {
   "codemirror_mode": {
    "name": "ipython",
    "version": 3
   },
   "file_extension": ".py",
   "mimetype": "text/x-python",
   "name": "python",
   "nbconvert_exporter": "python",
   "pygments_lexer": "ipython3",
   "version": "3.9.1"
  },
  "orig_nbformat": 2,
  "kernelspec": {
   "name": "python3",
   "display_name": "Python 3.9.1 64-bit",
   "metadata": {
    "interpreter": {
     "hash": "cafd707d783bf5a69b254e7ba7aa5a609a42ca9a3824b5ddd22bd65ea27b9069"
    }
   }
  }
 },
 "nbformat": 4,
 "nbformat_minor": 2,
 "cells": [
  {
   "cell_type": "code",
   "execution_count": 50,
   "metadata": {},
   "outputs": [
    {
     "output_type": "stream",
     "name": "stdout",
     "text": [
      "the are of the triangle is 108.0\n"
     ]
    }
   ],
   "source": [
    "#q1 \n",
    "a=5\n",
    "b=6\n",
    "c=7\n",
    "s=(a+b+c)/2\n",
    "area=(s*(s-a)*(s-b)*(s-c))*0.5\n",
    "print(f'the are of the triangle is {area}')\n"
   ]
  },
  {
   "cell_type": "code",
   "execution_count": 51,
   "metadata": {},
   "outputs": [
    {
     "output_type": "stream",
     "name": "stdout",
     "text": [
      "KAJIMAN,1141,1,3\n"
     ]
    }
   ],
   "source": [
    "#q2\n",
    "class IOString():\n",
    "    def __init__(self):\n",
    "        self.st1=\"\"\n",
    "    def get_string(self):\n",
    "        self.str1 =input()\n",
    "    def print_string(self):\n",
    "        print(self.str1.upper())\n",
    "        \n",
    "str1=IOString()\n",
    "str1.get_string()\n",
    "str1.print_string()\n",
    "\n"
   ]
  },
  {
   "cell_type": "code",
   "execution_count": 52,
   "metadata": {},
   "outputs": [
    {
     "output_type": "stream",
     "name": "stdout",
     "text": [
      "400\n"
     ]
    }
   ],
   "source": [
    "#q3\n",
    "class rectangle():\n",
    "    def __init__(self,l,b):\n",
    "        self.length=l\n",
    "        self.breadth=b\n",
    "\n",
    "    def rec_area(self):\n",
    "       return self.length*self.breadth\n",
    "rec_size=rectangle(20,20)\n",
    "print(rec_size.rec_area())\n"
   ]
  },
  {
   "cell_type": "code",
   "execution_count": 53,
   "metadata": {},
   "outputs": [
    {
     "output_type": "stream",
     "name": "stdout",
     "text": [
      "56.52\n254.34\n"
     ]
    }
   ],
   "source": [
    "#q4\n",
    "class circle():\n",
    "    def __init__(self,r):\n",
    "        self.radius=r\n",
    "\n",
    "    def peramiter(self):\n",
    "        return 2*self.radius*3.14\n",
    "\n",
    "    def area(self):\n",
    "        return self.radius**2*3.14\n",
    "\n",
    "circle_size=circle(9)\n",
    "print(circle_size.peramiter())\n",
    "print(circle_size.area())"
   ]
  },
  {
   "cell_type": "code",
   "execution_count": 54,
   "metadata": {},
   "outputs": [],
   "source": [
    "#q5\n",
    "#same as q4 thank you\n"
   ]
  },
  {
   "cell_type": "code",
   "execution_count": 55,
   "metadata": {},
   "outputs": [
    {
     "output_type": "error",
     "ename": "ValueError",
     "evalue": "could not convert string to float: ''",
     "traceback": [
      "\u001b[1;31m---------------------------------------------------------------------------\u001b[0m",
      "\u001b[1;31mValueError\u001b[0m                                Traceback (most recent call last)",
      "\u001b[1;32m<ipython-input-55-08bf5acdaf9d>\u001b[0m in \u001b[0;36m<module>\u001b[1;34m\u001b[0m\n\u001b[0;32m      1\u001b[0m \u001b[1;31m#q6\u001b[0m\u001b[1;33m\u001b[0m\u001b[1;33m\u001b[0m\u001b[1;33m\u001b[0m\u001b[0m\n\u001b[1;32m----> 2\u001b[1;33m \u001b[0mcelcius\u001b[0m\u001b[1;33m=\u001b[0m\u001b[0mfloat\u001b[0m\u001b[1;33m(\u001b[0m\u001b[0minput\u001b[0m\u001b[1;33m(\u001b[0m\u001b[1;34m\"enter the temperature in calcius \"\u001b[0m\u001b[1;33m)\u001b[0m\u001b[1;33m)\u001b[0m\u001b[1;33m\u001b[0m\u001b[1;33m\u001b[0m\u001b[0m\n\u001b[0m\u001b[0;32m      3\u001b[0m \u001b[0mferhanite\u001b[0m\u001b[1;33m=\u001b[0m\u001b[1;33m(\u001b[0m\u001b[0mcelcius\u001b[0m \u001b[1;33m*\u001b[0m \u001b[1;36m9\u001b[0m\u001b[1;33m/\u001b[0m\u001b[1;36m5\u001b[0m\u001b[1;33m)\u001b[0m \u001b[1;33m+\u001b[0m \u001b[1;36m32\u001b[0m\u001b[1;33m\u001b[0m\u001b[1;33m\u001b[0m\u001b[0m\n\u001b[0;32m      4\u001b[0m \u001b[0mprint\u001b[0m\u001b[1;33m(\u001b[0m\u001b[1;34mf'{celcius} celcius is :{ferhanite} ferhanite'\u001b[0m\u001b[1;33m)\u001b[0m\u001b[1;33m\u001b[0m\u001b[1;33m\u001b[0m\u001b[0m\n",
      "\u001b[1;31mValueError\u001b[0m: could not convert string to float: ''"
     ]
    }
   ],
   "source": [
    "#q6\n",
    "celcius=float(input(\"enter the temperature in calcius \"))\n",
    "ferhanite=(celcius * 9/5) + 32\n",
    "print(f'{celcius} celcius is :{ferhanite} ferhanite')\n"
   ]
  },
  {
   "cell_type": "code",
   "execution_count": 47,
   "metadata": {},
   "outputs": [
    {
     "output_type": "stream",
     "name": "stdout",
     "text": [
      "10.0 celcius is :50.0 ferhanite\n"
     ]
    }
   ],
   "source": [
    "ferhanite=float(input(\"enter the temperature in calcius \"))\n",
    "celcius=(ferhanite * 9/5) + 32\n",
    "print(f'{ferhanite} celcius is :{celcius} ferhanite')"
   ]
  },
  {
   "cell_type": "code",
   "execution_count": 67,
   "metadata": {},
   "outputs": [
    {
     "output_type": "stream",
     "name": "stdout",
     "text": [
      "kajiman lawati\n1141\n24\n12\nNone\n"
     ]
    }
   ],
   "source": [
    "#q7\n",
    "class kajiman:\n",
    "    def __init__(self,name,roll,marks,age):\n",
    "        self.name=name\n",
    "        self.age=age\n",
    "        self.roll=roll\n",
    "        self.marks=marks\n",
    "\n",
    "    def display(self):\n",
    "        print(self.name)\n",
    "        print(self.roll)\n",
    "        print(self.marks)\n",
    "        print(self.age)\n",
    "\n",
    "a=kajiman(\"kajiman lawati\" ,1141 ,24 ,12)\n",
    "print(a.display())\n",
    "\n"
   ]
  },
  {
   "cell_type": "code",
   "execution_count": null,
   "metadata": {},
   "outputs": [],
   "source": [
    "#"
   ]
  }
 ]
}