{
 "metadata": {
  "language_info": {
   "codemirror_mode": {
    "name": "ipython",
    "version": 3
   },
   "file_extension": ".py",
   "mimetype": "text/x-python",
   "name": "python",
   "nbconvert_exporter": "python",
   "pygments_lexer": "ipython3",
   "version": "3.9.1"
  },
  "orig_nbformat": 2,
  "kernelspec": {
   "name": "python3",
   "display_name": "Python 3.9.1 64-bit",
   "metadata": {
    "interpreter": {
     "hash": "cafd707d783bf5a69b254e7ba7aa5a609a42ca9a3824b5ddd22bd65ea27b9069"
    }
   }
  }
 },
 "nbformat": 4,
 "nbformat_minor": 2,
 "cells": [
  {
   "cell_type": "code",
   "execution_count": 1,
   "metadata": {},
   "outputs": [
    {
     "output_type": "stream",
     "name": "stdout",
     "text": [
      "The product is 1375\n"
     ]
    }
   ],
   "source": [
    "#Write a program to multiply two numbers using functions\n",
    "def mul_Num(a,b):\n",
    "    multiply=a*b;\n",
    "    return multiply;\n",
    "num1=25  \n",
    "num2=55\n",
    "print(\"The product is\",mul_Num(num1,num2))"
   ]
  },
  {
   "cell_type": "code",
   "execution_count": 2,
   "metadata": {},
   "outputs": [
    {
     "output_type": "stream",
     "name": "stdout",
     "text": [
      "The product is 80\n"
     ]
    }
   ],
   "source": [
    "#Write a program to add two numbers using functions\n",
    "def add_Num(a,b):\n",
    "    add=a+b;\n",
    "    return add;\n",
    "num1=25  \n",
    "num2=55\n",
    "print(\"The product is\",add_Num(num1,num2))"
   ]
  },
  {
   "cell_type": "code",
   "execution_count": 3,
   "metadata": {},
   "outputs": [
    {
     "output_type": "stream",
     "name": "stdout",
     "text": [
      "The factorial of 6 = 720\n"
     ]
    }
   ],
   "source": [
    "#3.Calculate factorial of a number using function.\n",
    "def factorial(num):\n",
    "    fact=1\n",
    "    for i in range(1, num+1):\n",
    "        fact=fact*i\n",
    "    return fact  \n",
    "number=int(input(\"Please enter any number to find factorial: \"))\n",
    "result=factorial(number)\n",
    "print(\"The factorial of %d = %d\"%(number,result))"
   ]
  },
  {
   "cell_type": "code",
   "execution_count": 4,
   "metadata": {},
   "outputs": [
    {
     "output_type": "stream",
     "name": "stdout",
     "text": [
      "Fibonacci sequence:\n0\n1\n1\n2\n3\n"
     ]
    }
   ],
   "source": [
    "#Create sequence of Fibonacci using function\n",
    "# Program to display the Fibonacci sequence up to n-th term\n",
    "\n",
    "nterms = int(input(\"How many terms? \"))\n",
    "\n",
    "n1, n2 = 0, 1\n",
    "count = 0\n",
    "\n",
    "\n",
    "if nterms <= 0:\n",
    "   print(\"Please enter a positive integer\")\n",
    "elif nterms == 1:\n",
    "   print(\"Fibonacci sequence upto\",nterms,\":\")\n",
    "   print(n1)\n",
    "else:\n",
    "   print(\"Fibonacci sequence:\")\n",
    "   while count < nterms:\n",
    "       print(n1)\n",
    "       nth = n1 + n2\n",
    "       n1 = n2\n",
    "       n2 = nth\n",
    "       count += 1"
   ]
  },
  {
   "cell_type": "code",
   "execution_count": 5,
   "metadata": {},
   "outputs": [
    {
     "output_type": "stream",
     "name": "stdout",
     "text": [
      "The value of x after swapping: 6\nThe value of y after swapping: 5\n"
     ]
    }
   ],
   "source": [
    "#Write a program to swapping of two numbers using functions\n",
    "x = input('Enter value of x: ')  \n",
    "y = input('Enter value of y: ')  \n",
    "   \n",
    "temp = x  \n",
    "x = y  \n",
    "y = temp  \n",
    "  \n",
    "print('The value of x after swapping: {}'.format(x))  \n",
    "print('The value of y after swapping: {}'.format(y)) "
   ]
  },
  {
   "cell_type": "code",
   "execution_count": 6,
   "metadata": {},
   "outputs": [
    {
     "output_type": "stream",
     "name": "stdout",
     "text": [
      "The H.C.F. of 24 and 12 is 12\n"
     ]
    }
   ],
   "source": [
    "#Write a function to find the HCF of some given numbers\n",
    "def hcf(x, y):  \n",
    "   if x > y:  \n",
    "       smaller = y  \n",
    "   else:  \n",
    "       smaller = x  \n",
    "   for i in range(1,smaller + 1):  \n",
    "       if((x % i == 0) and (y % i == 0)):  \n",
    "           hcf = i  \n",
    "   return hcf  \n",
    "  \n",
    "num1 = int(input(\"Enter first number: \"))  \n",
    "num2 = int(input(\"Enter second number: \"))  \n",
    "print(\"The H.C.F. of\", num1,\"and\", num2,\"is\", hcf(num1, num2)) \n",
    "     "
   ]
  },
  {
   "cell_type": "code",
   "execution_count": null,
   "metadata": {},
   "outputs": [],
   "source": []
  }
 ]
}